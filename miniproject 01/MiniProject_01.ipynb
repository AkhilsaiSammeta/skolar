{
  "nbformat": 4,
  "nbformat_minor": 0,
  "metadata": {
    "colab": {
      "provenance": []
    },
    "kernelspec": {
      "name": "python3",
      "display_name": "Python 3"
    },
    "language_info": {
      "name": "python"
    }
  },
  "cells": [
    {
      "cell_type": "markdown",
      "source": [
        "1. Data Collection:\n",
        "We'll use the Titanic dataset"
      ],
      "metadata": {
        "id": "VdGTTiFc39P-"
      }
    },
    {
      "cell_type": "code",
      "execution_count": 1,
      "metadata": {
        "id": "dVCctrmT34VQ"
      },
      "outputs": [],
      "source": [
        "import pandas as pd\n",
        "\n",
        "# Load the Titanic dataset from a local CSV or a URL\n",
        "url = 'https://raw.githubusercontent.com/datasciencedojo/datasets/master/titanic.csv'\n",
        "df = pd.read_csv(url)\n"
      ]
    },
    {
      "cell_type": "markdown",
      "source": [
        "2. Data Inspection:\n",
        "Provide an overview of the dataset."
      ],
      "metadata": {
        "id": "H-pHh_9F4OYp"
      }
    },
    {
      "cell_type": "code",
      "source": [
        "# Check the number of rows and columns\n",
        "print(df.shape)\n",
        "\n",
        "# Display the first few rows\n",
        "print(df.head())\n",
        "\n",
        "# Get a summary of the dataset\n",
        "print(df.info())\n"
      ],
      "metadata": {
        "colab": {
          "base_uri": "https://localhost:8080/"
        },
        "id": "sRGLyIho4SJM",
        "outputId": "1b1be348-14c7-4156-c111-0aa2c2f76fbf"
      },
      "execution_count": 2,
      "outputs": [
        {
          "output_type": "stream",
          "name": "stdout",
          "text": [
            "(891, 12)\n",
            "   PassengerId  Survived  Pclass  \\\n",
            "0            1         0       3   \n",
            "1            2         1       1   \n",
            "2            3         1       3   \n",
            "3            4         1       1   \n",
            "4            5         0       3   \n",
            "\n",
            "                                                Name     Sex   Age  SibSp  \\\n",
            "0                            Braund, Mr. Owen Harris    male  22.0      1   \n",
            "1  Cumings, Mrs. John Bradley (Florence Briggs Th...  female  38.0      1   \n",
            "2                             Heikkinen, Miss. Laina  female  26.0      0   \n",
            "3       Futrelle, Mrs. Jacques Heath (Lily May Peel)  female  35.0      1   \n",
            "4                           Allen, Mr. William Henry    male  35.0      0   \n",
            "\n",
            "   Parch            Ticket     Fare Cabin Embarked  \n",
            "0      0         A/5 21171   7.2500   NaN        S  \n",
            "1      0          PC 17599  71.2833   C85        C  \n",
            "2      0  STON/O2. 3101282   7.9250   NaN        S  \n",
            "3      0            113803  53.1000  C123        S  \n",
            "4      0            373450   8.0500   NaN        S  \n",
            "<class 'pandas.core.frame.DataFrame'>\n",
            "RangeIndex: 891 entries, 0 to 890\n",
            "Data columns (total 12 columns):\n",
            " #   Column       Non-Null Count  Dtype  \n",
            "---  ------       --------------  -----  \n",
            " 0   PassengerId  891 non-null    int64  \n",
            " 1   Survived     891 non-null    int64  \n",
            " 2   Pclass       891 non-null    int64  \n",
            " 3   Name         891 non-null    object \n",
            " 4   Sex          891 non-null    object \n",
            " 5   Age          714 non-null    float64\n",
            " 6   SibSp        891 non-null    int64  \n",
            " 7   Parch        891 non-null    int64  \n",
            " 8   Ticket       891 non-null    object \n",
            " 9   Fare         891 non-null    float64\n",
            " 10  Cabin        204 non-null    object \n",
            " 11  Embarked     889 non-null    object \n",
            "dtypes: float64(2), int64(5), object(5)\n",
            "memory usage: 83.7+ KB\n",
            "None\n"
          ]
        }
      ]
    },
    {
      "cell_type": "markdown",
      "source": [
        "Observation: Titanic dataset contains 891 samples with 11 features, including Age, Fare (numerical), Sex, Embarked (categorical). The target variable is Survived."
      ],
      "metadata": {
        "id": "MFpTAxww4WPA"
      }
    },
    {
      "cell_type": "markdown",
      "source": [
        "3. Data Preprocessing:\n",
        "a. Data Cleaning (Handling Missing Values):"
      ],
      "metadata": {
        "id": "yNS06DfZ4d_J"
      }
    },
    {
      "cell_type": "code",
      "source": [
        "# Check for missing values\n",
        "print(df.isnull().sum())\n",
        "\n",
        "# Fill missing values for 'Age' with median\n",
        "df['Age'].fillna(df['Age'].median(), inplace=True)\n",
        "\n",
        "# Drop rows with missing values in 'Embarked'\n",
        "df.dropna(subset=['Embarked'], inplace=True)\n",
        "\n",
        "# Drop 'Cabin' since it has too many missing values\n",
        "df.drop('Cabin', axis=1, inplace=True)\n"
      ],
      "metadata": {
        "colab": {
          "base_uri": "https://localhost:8080/"
        },
        "id": "og51b3Fn4Vvf",
        "outputId": "28eb98ad-a568-4c04-8f60-7dd13c3f3bab"
      },
      "execution_count": 3,
      "outputs": [
        {
          "output_type": "stream",
          "name": "stdout",
          "text": [
            "PassengerId      0\n",
            "Survived         0\n",
            "Pclass           0\n",
            "Name             0\n",
            "Sex              0\n",
            "Age            177\n",
            "SibSp            0\n",
            "Parch            0\n",
            "Ticket           0\n",
            "Fare             0\n",
            "Cabin          687\n",
            "Embarked         2\n",
            "dtype: int64\n"
          ]
        }
      ]
    },
    {
      "cell_type": "markdown",
      "source": [
        "b. Feature Scaling:\n",
        "For numerical features like Age and Fare, apply Min-Max Scaling to normalize them."
      ],
      "metadata": {
        "id": "i7gAUXOZ4myK"
      }
    },
    {
      "cell_type": "code",
      "source": [
        "from sklearn.preprocessing import MinMaxScaler\n",
        "\n",
        "scaler = MinMaxScaler()\n",
        "\n",
        "# Scale numerical features\n",
        "df[['Age', 'Fare']] = scaler.fit_transform(df[['Age', 'Fare']])\n"
      ],
      "metadata": {
        "id": "zza6ZyAB4im4"
      },
      "execution_count": 4,
      "outputs": []
    },
    {
      "cell_type": "markdown",
      "source": [
        "c. Handling Categorical Data:\n",
        "Encode categorical variables like Sex and Embarked."
      ],
      "metadata": {
        "id": "ttO7RGrb4tsp"
      }
    },
    {
      "cell_type": "code",
      "source": [
        "# Label encoding for 'Sex' (male=1, female=0)\n",
        "df['Sex'] = df['Sex'].map({'male': 1, 'female': 0})\n",
        "\n",
        "# One-Hot encoding for 'Embarked'\n",
        "df = pd.get_dummies(df, columns=['Embarked'], drop_first=True)\n"
      ],
      "metadata": {
        "id": "1f501hMD4qNM"
      },
      "execution_count": 5,
      "outputs": []
    },
    {
      "cell_type": "markdown",
      "source": [
        "4. Feature Engineering:"
      ],
      "metadata": {
        "id": "RGHH69wu44Vr"
      }
    },
    {
      "cell_type": "markdown",
      "source": [
        "a. Creating New Features:\n",
        "We'll create two new features:\n",
        "\n",
        "FamilySize: Combine SibSp and Parch to get the total family size.\n",
        "IsAlone: A binary feature indicating whether the passenger is alone."
      ],
      "metadata": {
        "id": "6MQXCssG45ci"
      }
    },
    {
      "cell_type": "code",
      "source": [
        "# Create FamilySize feature\n",
        "df['FamilySize'] = df['SibSp'] + df['Parch'] + 1\n",
        "\n",
        "# Create IsAlone feature\n",
        "df['IsAlone'] = 1  # Initialize to 1 (Alone)\n",
        "df['IsAlone'].loc[df['FamilySize'] > 1] = 0  # Set to 0 if family size > 1\n"
      ],
      "metadata": {
        "colab": {
          "base_uri": "https://localhost:8080/"
        },
        "id": "A4pyl6v74v50",
        "outputId": "992eb935-f47e-4326-d78b-08f3417a7710"
      },
      "execution_count": 6,
      "outputs": [
        {
          "output_type": "stream",
          "name": "stderr",
          "text": [
            "<ipython-input-6-fa3b3f435fce>:6: SettingWithCopyWarning: \n",
            "A value is trying to be set on a copy of a slice from a DataFrame\n",
            "\n",
            "See the caveats in the documentation: https://pandas.pydata.org/pandas-docs/stable/user_guide/indexing.html#returning-a-view-versus-a-copy\n",
            "  df['IsAlone'].loc[df['FamilySize'] > 1] = 0  # Set to 0 if family size > 1\n"
          ]
        }
      ]
    },
    {
      "cell_type": "markdown",
      "source": [
        "**5. Handling Imbalanced Data:**"
      ],
      "metadata": {
        "id": "7gIxSGKQ5IdQ"
      }
    },
    {
      "cell_type": "markdown",
      "source": [
        "If the target variable Survived is imbalanced, we can apply techniques like SMOTE. However, the Titanic dataset doesn't have a severe imbalance, so this step can be skipped for now."
      ],
      "metadata": {
        "id": "XXRFPQud5LX1"
      }
    },
    {
      "cell_type": "markdown",
      "source": [
        "**6. Data Transformation (Save Preprocessed Data):**"
      ],
      "metadata": {
        "id": "nesX7aQ45SZQ"
      }
    },
    {
      "cell_type": "markdown",
      "source": [
        "After preprocessing, save the dataset to a CSV file for further analysis."
      ],
      "metadata": {
        "id": "XRL2B2NU5V83"
      }
    },
    {
      "cell_type": "code",
      "source": [
        "# Save the preprocessed dataset\n",
        "df.to_csv('preprocessed_titanic.csv', index=False)\n"
      ],
      "metadata": {
        "id": "27mLPbyK5Yx4"
      },
      "execution_count": 7,
      "outputs": []
    },
    {
      "cell_type": "markdown",
      "source": [
        "**7. Analysis:**"
      ],
      "metadata": {
        "id": "uK_D2JCn5cKk"
      }
    },
    {
      "cell_type": "markdown",
      "source": [
        "We can visualize and analyze how data preprocessing and feature engineering affected the dataset."
      ],
      "metadata": {
        "id": "IkQObNDA5f3S"
      }
    },
    {
      "cell_type": "markdown",
      "source": [
        "**a. Visualizations:**\n",
        "Use matplotlib or seaborn for visualizations."
      ],
      "metadata": {
        "id": "6xO0_YoF5iDq"
      }
    },
    {
      "cell_type": "code",
      "source": [
        "import seaborn as sns\n",
        "import matplotlib.pyplot as plt\n",
        "\n",
        "# Visualize Age distribution after scaling\n",
        "sns.histplot(df['Age'], kde=True)\n",
        "plt.show()\n",
        "\n",
        "# Visualize Survived by FamilySize\n",
        "sns.barplot(x='FamilySize', y='Survived', data=df)\n",
        "plt.show()\n",
        "\n",
        "# Summary statistics\n",
        "print(df.describe())\n"
      ],
      "metadata": {
        "colab": {
          "base_uri": "https://localhost:8080/",
          "height": 1000
        },
        "id": "pvtx7VL35CDy",
        "outputId": "949d8159-ddc4-4269-9d2f-2efcd7c2e672"
      },
      "execution_count": 8,
      "outputs": [
        {
          "output_type": "display_data",
          "data": {
            "text/plain": [
              "<Figure size 640x480 with 1 Axes>"
            ],
            "image/png": "[encoded data removed]"
          },
          "metadata": {}
        },
        {
          "output_type": "display_data",
          "data": {
            "text/plain": [
              "<Figure size 640x480 with 1 Axes>"
            ],
            "image/png": "[encoded data removed]"
          },
          "metadata": {}
        },
        {
          "output_type": "stream",
          "name": "stdout",
          "text": [
            "       PassengerId    Survived      Pclass         Sex         Age  \\\n",
            "count   889.000000  889.000000  889.000000  889.000000  889.000000   \n",
            "mean    446.000000    0.382452    2.311586    0.649044    0.363096   \n",
            "std     256.998173    0.486260    0.834700    0.477538    0.163168   \n",
            "min       1.000000    0.000000    1.000000    0.000000    0.000000   \n",
            "25%     224.000000    0.000000    2.000000    0.000000    0.271174   \n",
            "50%     446.000000    0.000000    3.000000    1.000000    0.346569   \n",
            "75%     668.000000    1.000000    3.000000    1.000000    0.434531   \n",
            "max     891.000000    1.000000    3.000000    1.000000    1.000000   \n",
            "\n",
            "            SibSp       Parch        Fare  FamilySize     IsAlone  \n",
            "count  889.000000  889.000000  889.000000  889.000000  889.000000  \n",
            "mean     0.524184    0.382452    0.062649    1.906637    0.601800  \n",
            "std      1.103705    0.806761    0.097003    1.614703    0.489803  \n",
            "min      0.000000    0.000000    0.000000    1.000000    0.000000  \n",
            "25%      0.000000    0.000000    0.015412    1.000000    0.000000  \n",
            "50%      0.000000    0.000000    0.028213    1.000000    1.000000  \n",
            "75%      1.000000    0.000000    0.060508    2.000000    1.000000  \n",
            "max      8.000000    6.000000    1.000000   11.000000    1.000000  \n"
          ]
        }
      ]
    },
    {
      "cell_type": "markdown",
      "source": [
        "8. Conclusion:\n",
        "Data preprocessing helps handle missing values, scale features, and encode categorical data, making the dataset ready for machine learning models.\n",
        "Feature engineering created FamilySize and IsAlone, adding meaningful information that enhances the representational power of the dataset."
      ],
      "metadata": {
        "id": "EDcoh73W5vlE"
      }
    },
    {
      "cell_type": "markdown",
      "source": [
        "This example provides a structured approach to preprocessing and feature engineering. You can follow a similar process for any dataset you choose.\n",
        "\n",
        "Commands Summary:\n",
        "Data Loading:\n",
        "\n",
        "pd.read_csv()\n",
        "\n",
        "df.shape, df.head(), df.info()\n",
        "\n",
        "Data Cleaning:\n",
        "\n",
        "df.isnull().sum()\n",
        "df.fillna(), df.dropna(), df.drop()\n",
        "\n",
        "Feature Scaling:\n",
        "\n",
        "MinMaxScaler(), scaler.fit_transform()\n",
        "\n",
        "Handling Categorical Data:\n",
        "\n",
        "map(), pd.get_dummies()\n",
        "\n",
        "Feature Engineering:\n",
        "\n",
        "Creating new columns: df['NewFeature'] = ...\n",
        "Data Saving:\n",
        "New Section\n",
        "df.to_csv()\n",
        "\n",
        "Visualizations:\n",
        "\n",
        "seaborn.histplot(), seaborn.barplot(), plt.show()"
      ],
      "metadata": {
        "id": "Jwl8KgOQ6KnZ"
      }
    }
  ]
}